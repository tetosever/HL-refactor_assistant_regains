{
 "cells": [
  {
   "cell_type": "code",
   "execution_count": null,
   "id": "initial_id",
   "metadata": {
    "collapsed": true
   },
   "outputs": [],
   "source": [
    "import os\n",
    "import glob\n",
    "import torch\n",
    "from torch_geometric.data import Data\n",
    "from torch_geometric.utils import to_networkx\n",
    "import networkx as nx\n",
    "import pandas as pd\n",
    "import matplotlib.pyplot as plt\n",
    "import numpy as np\n",
    "from sklearn.decomposition import PCA\n",
    "\n",
    "plt.style.use('default')\n",
    "\n",
    "BASE_PATH = 'dataset/graph_features'"
   ]
  },
  {
   "metadata": {},
   "cell_type": "code",
   "outputs": [],
   "execution_count": null,
   "source": [
    "def load_pyg_data(fp) -> Data:\n",
    "    \"\"\"Carica un oggetto PyG Data da file .pt\"\"\"\n",
    "    data = torch.load(fp)\n",
    "    if not isinstance(data, Data):\n",
    "        raise ValueError(f\"File {fp} non contiene un oggetto torch_geometric.data.Data\")\n",
    "    return data\n",
    "\n",
    "# Recupera tutti i file .pt\n",
    "all_files = glob.glob(os.path.join(BASE_PATH, '*.pt'))\n",
    "print(f\"Trovati {len(all_files)} file .pt nel path {BASE_PATH}\")"
   ],
   "id": "2cb19b4bf81ac5fa"
  },
  {
   "metadata": {},
   "cell_type": "code",
   "outputs": [],
   "execution_count": null,
   "source": [
    "import matplotlib.pyplot as plt\n",
    "\n",
    "# Conta smelly vs clean\n",
    "counts = {'smelly': 0, 'clean': 0}\n",
    "for fp in all_files:\n",
    "    data = load_pyg_data(fp)\n",
    "    if data.is_smelly.item() == 1:\n",
    "        counts['smelly'] += 1\n",
    "    else:\n",
    "        counts['clean'] += 1\n",
    "\n",
    "# Prepara dati\n",
    "labels = list(counts.keys())\n",
    "values = list(counts.values())\n",
    "\n",
    "# Plot\n",
    "plt.figure(figsize=(6,4))\n",
    "bars = plt.bar(labels, values, color=['tab:red','tab:green'], alpha=0.7)\n",
    "plt.ylabel('Numero di sub-graph')\n",
    "plt.title('Conteggio sub-graph smelly vs clean')\n",
    "\n",
    "# Annotazioni\n",
    "for bar in bars:\n",
    "    h = bar.get_height()\n",
    "    plt.text(bar.get_x()+bar.get_width()/2, h + max(values)*0.01,\n",
    "             str(h), ha='center', va='bottom')\n",
    "\n",
    "plt.grid(axis='y', linestyle='--', alpha=0.5)\n",
    "plt.tight_layout()\n",
    "plt.show()\n"
   ],
   "id": "862f862a51619f9e"
  }
 ],
 "metadata": {
  "kernelspec": {
   "display_name": "Python 3",
   "language": "python",
   "name": "python3"
  },
  "language_info": {
   "codemirror_mode": {
    "name": "ipython",
    "version": 2
   },
   "file_extension": ".py",
   "mimetype": "text/x-python",
   "name": "python",
   "nbconvert_exporter": "python",
   "pygments_lexer": "ipython2",
   "version": "2.7.6"
  }
 },
 "nbformat": 4,
 "nbformat_minor": 5
}
